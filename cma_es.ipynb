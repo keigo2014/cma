{
  "nbformat": 4,
  "nbformat_minor": 0,
  "metadata": {
    "colab": {
      "provenance": [],
      "authorship_tag": "ABX9TyPPWj5dBjjkVSiF3tW0E7HL",
      "include_colab_link": true
    },
    "kernelspec": {
      "name": "python3",
      "display_name": "Python 3"
    },
    "language_info": {
      "name": "python"
    }
  },
  "cells": [
    {
      "cell_type": "markdown",
      "metadata": {
        "id": "view-in-github",
        "colab_type": "text"
      },
      "source": [
        "<a href=\"https://colab.research.google.com/github/keigo2014/cma/blob/main/cma_es.ipynb\" target=\"_parent\"><img src=\"https://colab.research.google.com/assets/colab-badge.svg\" alt=\"Open In Colab\"/></a>"
      ]
    },
    {
      "cell_type": "code",
      "execution_count": 26,
      "metadata": {
        "id": "UmVrKPag9CT7"
      },
      "outputs": [],
      "source": [
        "class CMAES:\n",
        "\n",
        "    def __init__(self, centroid, sigma, lam):\n",
        "\n",
        "        #: 入力次元数\n",
        "        self.dim = len(centroid)\n",
        "\n",
        "        #: 世代ごと総個体数λとエリート数μ\n",
        "        self.lam = lam if lam else int(4 + 3*np.log(self.dim))\n",
        "        self.mu = int(np.floor(self.lam / 2))\n",
        "\n",
        "        #: 正規分布中心とその学習率\n",
        "        self.centroid = np.array(centroid, dtype=np.float64)\n",
        "        self.c_m = 1.0\n",
        "\n",
        "        #: 順位重み係数\n",
        "        weights = [np.log(0.5*(self.lam + 1)) - np.log(i) for i in range(1, 1+self.mu)]\n",
        "        weights = np.array(weights).reshape(1, -1)\n",
        "        self.weights = weights / weights.sum()\n",
        "        self.mu_eff = 1. / (self.weights ** 2).sum()\n",
        "\n",
        "        #: ステップサイズ： 進化パスpと学習率c\n",
        "        self.sigma = float(sigma)\n",
        "        self.p_sigma = np.zeros(self.dim)\n",
        "        self.c_sigma = (self.mu_eff + 2) / (self.dim + self.mu_eff + 5)\n",
        "        self.d_sigma = 1 + 2 * max(\n",
        "            0, np.sqrt((self.mu_eff - 1)/(self.dim + 1)) - 1\n",
        "            ) + self.c_sigma\n",
        "\n",
        "        #: 共分散行列： 進化パスpとrank-μ, rank-one更新の学習率c\n",
        "        self.C = np.identity(self.dim)\n",
        "        self.p_c = np.zeros(self.dim)\n",
        "        self.c_c = (4 + self.mu_eff / self.dim) / (self.dim + 4 + 2 * self.mu_eff / self.dim)\n",
        "        self.c_1 = 2.0 / ((self.dim+1.3)**2 + self.mu_eff)\n",
        "        self.c_mu = min(\n",
        "            1 - self.c_1,\n",
        "            2.0 * (self.mu_eff - 2 + 1/self.mu_eff) / ((self.dim + 2) ** 2 + self.mu_eff)\n",
        "            )\n",
        "\n",
        "\n",
        "    def sample_population(self):\n",
        "        #: z ~ N(0, I)に従う個体をλ個体生成\n",
        "        Z = np.random.normal(0, 1, size=(self.lam, self.dim))\n",
        "\n",
        "        #: Cは対称行列なのでlinalg.eigでもlinalg.eighでも同じ結果\n",
        "        diagDD, B = np.linalg.eigh(self.C)\n",
        "        diagD = np.sqrt(diagDD)\n",
        "        BD = np.matmul(B, np.diag(diagD))\n",
        "\n",
        "        #: y ~ N(0, C)\n",
        "        Y = np.matmul(BD, Z.T).T\n",
        "        #: X ~ N(μ, σC)\n",
        "        X = self.centroid + self.sigma * Y\n",
        "\n",
        "        return X\n",
        "\n",
        "\n",
        "    def update(self, X, fitnesses, gen):\n",
        "        \"\"\" 正規分布パラメータの更新\n",
        "            X (np.ndarray): 個体群, shape==(self.lam, self.dim)\n",
        "            fitnesses (list): 適合度\n",
        "            gen (int): 現在の世代数\n",
        "        \"\"\"\n",
        "\n",
        "        \"\"\"1. Selection and recombination\"\"\"\n",
        "        old_centroid = self.centroid\n",
        "        old_sigma = self.sigma\n",
        "\n",
        "        #: fitnessが上位μまでのインデックスを抽出\n",
        "        elite_indices = np.argsort(fitnesses)[:self.mu]\n",
        "\n",
        "        X_elite = X[elite_indices, :]\n",
        "        Y_elite = (X_elite - old_centroid) / old_sigma\n",
        "\n",
        "        X_w = np.matmul(self.weights, X_elite)[0]\n",
        "        Y_w = np.matmul(self.weights, Y_elite)[0]\n",
        "\n",
        "        #: 正規分布中心の更新\n",
        "        self.centroid = (1 - self.c_m) * old_centroid + self.c_m * X_w\n",
        "\n",
        "        \"\"\" 2. Step-size control \"\"\"\n",
        "        diagD, B = np.linalg.eigh(self.C)\n",
        "        diagD = np.sqrt(diagD)\n",
        "        inv_diagD = 1.0 / diagD\n",
        "\n",
        "        #: Note. 定義からnp.matmul(B, Z.T).T == np.matmul(C_, Y.T).T\n",
        "        C_ = np.matmul(np.matmul(B, np.diag(inv_diagD)), B.T)\n",
        "\n",
        "        new_p_sigma = (1 - self.c_sigma) * self.p_sigma\n",
        "        new_p_sigma += np.sqrt(self.c_sigma * (2 - self.c_sigma) * self.mu_eff) * np.matmul(C_, Y_w)\n",
        "        self.p_sigma = new_p_sigma\n",
        "\n",
        "        E_normal = np.sqrt(self.dim) * (1 - 1/(4*self.dim) + 1/(21 * self.dim **2)) #:定数パラメータ\n",
        "        self.sigma = self.sigma * np.exp(\n",
        "            (self.c_sigma / self.d_sigma)\n",
        "            * (np.sqrt((self.p_sigma ** 2).sum()) / E_normal - 1)\n",
        "        )\n",
        "\n",
        "        \"\"\" 3. Covariance matrix adaptation (CMA) \"\"\"\n",
        "        #: Note. h_σ(heaviside関数)はステップサイズσが大きいときにはCの更新を中断させる\n",
        "        left = np.sqrt((self.p_sigma ** 2).sum()) / np.sqrt(1 - (1 - self.c_sigma) ** (2 * (gen+1)))\n",
        "        right = (1.4 + 2 / (self.dim + 1)) * E_normal\n",
        "        hsigma = 1 if left < right else 0\n",
        "        d_hsigma = (1 - hsigma) * self.c_c * (2 - self.c_c)\n",
        "\n",
        "        #: p_cの更新\n",
        "        new_p_c = (1 - self.c_c) * self.p_c\n",
        "        new_p_c += hsigma * np.sqrt(self.c_c * (2 - self.c_c) * self.mu_eff) * Y_w\n",
        "        self.p_c = new_p_c\n",
        "\n",
        "        #: Cの更新\n",
        "        new_C = (1 + self.c_1 * d_hsigma - self.c_1 - self.c_mu) * self.C\n",
        "        new_C += self.c_1 * np.outer(self.p_c, self.p_c)\n",
        "\n",
        "        #: 愚直な実装（スマートな実装はdeapのcma.pyを参照)\n",
        "        wyy = np.zeros((self.dim, self.dim))\n",
        "        for i in range(self.mu):\n",
        "            y_i = Y_elite[i]\n",
        "            wyy += self.weights[0, i] * np.outer(y_i, y_i)\n",
        "        new_C += self.c_mu * wyy\n",
        "\n",
        "        self.C = new_C"
      ]
    },
    {
      "cell_type": "code",
      "source": [
        "import numpy as np\n",
        "import matplotlib.pyplot as plt\n",
        "import matplotlib.animation as animation\n",
        "from matplotlib.patches import Ellipse\n",
        "\n",
        "\n",
        "def levi_func(x1, x2):\n",
        "    \"\"\" https://en.wikipedia.org/wiki/Test_functions_for_optimization\n",
        "    \"\"\"\n",
        "    theta = np.pi * 3 / 5\n",
        "    theta = np.pi\n",
        "    _x1 = x1 * np.cos(theta) - x2 * np.sin(theta)\n",
        "    _x2 = x1 * np.sin(theta) + x2 * np.cos(theta)\n",
        "\n",
        "    return 0.1 * (np.sin(3*np.pi*_x1)**2\n",
        "                  + (_x1 - 1)**2 * (1 + np.sin(3 * np.pi * _x2)**2)\n",
        "                  + 0.4 * (_x2 - 1)**2 * (1 + np.sin(2*np.pi * _x2)**2))\n",
        "\n",
        "\n",
        "def main():\n",
        "    cmaes = CMAES(centroid=[-11, -11], sigma=0.4, lam=12)\n",
        "\n",
        "    fig, ax = plt.subplots()\n",
        "    images = []\n",
        "    for gen in range(n_generations):\n",
        "\n",
        "        X = cmaes.sample_population()\n",
        "        fitnesses = levi_func(X[:, 0], X[:, 1])\n",
        "\n",
        "        #: お絵描き処理\n",
        "        im_list = []\n",
        "        im = ax.scatter(X[:, 0], X[:, 1], c=\"firebrick\", ec=\"white\")\n",
        "        im_list.append(im)\n",
        "        \"\"\"楕円描画は下記リンクを参考（コピペ）\n",
        "        https://stackoverflow.com/questions/20126061/creating-a-confidence-ellipses-in-a-sccatterplot-using-matplotlib\n",
        "        \"\"\"\n",
        "        lambda_, v = np.linalg.eig(cmaes.C)\n",
        "        lambda_ = np.sqrt(lambda_)\n",
        "        for j in range(1, 4):\n",
        "            ell = Ellipse(xy=(cmaes.centroid[0], cmaes.centroid[1]),\n",
        "                          width=lambda_[0]*j*2*cmaes.sigma,\n",
        "                          height=lambda_[1]*j*2*cmaes.sigma,\n",
        "                          angle=np.rad2deg(np.arccos(v[0, 0])),\n",
        "                          fc=\"none\", ec=\"firebrick\", ls=\"--\")\n",
        "            im = ax.add_patch(ell)\n",
        "            im_list.append(im)\n",
        "        images.append(im_list)\n",
        "\n",
        "        #: パラメータ更新\n",
        "        cmaes.update(X, fitnesses, gen)\n",
        "\n",
        "    ani = animation.ArtistAnimation(fig, images, interval=400)\n",
        "    ani.save('anim3.gif', writer='pillow')"
      ],
      "metadata": {
        "id": "zn8gGrQy9DTg"
      },
      "execution_count": 47,
      "outputs": []
    },
    {
      "cell_type": "code",
      "source": [
        "n_generations = 50\n",
        "\n",
        "main()"
      ],
      "metadata": {
        "colab": {
          "base_uri": "https://localhost:8080/",
          "height": 430
        },
        "id": "Ukb6s50Z_2zA",
        "outputId": "99972db7-0122-4688-fcad-b65ec2c27490"
      },
      "execution_count": 48,
      "outputs": [
        {
          "output_type": "display_data",
          "data": {
            "text/plain": [
              "<Figure size 640x480 with 1 Axes>"
            ],
            "image/png": "[encoded data removed]"
          },
          "metadata": {}
        }
      ]
    },
    {
      "cell_type": "code",
      "source": [],
      "metadata": {
        "colab": {
          "base_uri": "https://localhost:8080/",
          "height": 183
        },
        "id": "BCOagr6fAcjN",
        "outputId": "697c5936-64fc-43dd-8110-127f28b9d182"
      },
      "execution_count": 42,
      "outputs": [
        {
          "output_type": "error",
          "ename": "NameError",
          "evalue": "ignored",
          "traceback": [
            "\u001b[0;31m---------------------------------------------------------------------------\u001b[0m",
            "\u001b[0;31mNameError\u001b[0m                                 Traceback (most recent call last)",
            "\u001b[0;32m<ipython-input-42-010e5077edeb>\u001b[0m in \u001b[0;36m<cell line: 1>\u001b[0;34m()\u001b[0m\n\u001b[0;32m----> 1\u001b[0;31m \u001b[0mim_list\u001b[0m\u001b[0;34m\u001b[0m\u001b[0;34m\u001b[0m\u001b[0m\n\u001b[0m",
            "\u001b[0;31mNameError\u001b[0m: name 'im_list' is not defined"
          ]
        }
      ]
    },
    {
      "cell_type": "code",
      "source": [],
      "metadata": {
        "id": "o2bFK_NtIoEM"
      },
      "execution_count": null,
      "outputs": []
    }
  ]
}